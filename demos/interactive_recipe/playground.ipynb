{
 "cells": [
  {
   "cell_type": "code",
   "execution_count": null,
   "id": "fa20a90be87a54a8",
   "metadata": {
    "ExecuteTime": {
     "end_time": "2025-06-18T07:01:23.951063Z",
     "start_time": "2025-06-18T07:01:23.404565Z"
    }
   },
   "outputs": [],
   "source": [
    "from operator_pool import OperatorPool\n",
    "\n",
    "op_pool = OperatorPool(config_path=\"./configs/default_ops.yaml\")"
   ]
  },
  {
   "cell_type": "code",
   "execution_count": 2,
   "id": "a62585ea12b7784a",
   "metadata": {
    "ExecuteTime": {
     "end_time": "2025-06-18T07:01:24.191947Z",
     "start_time": "2025-06-18T07:01:24.188808Z"
    }
   },
   "outputs": [
    {
     "data": {
      "text/plain": [
       "'image_watermark_filter'"
      ]
     },
     "execution_count": 2,
     "metadata": {},
     "output_type": "execute_result"
    }
   ],
   "source": [
    "# access op with index\n",
    "op_pool[0].name"
   ]
  },
  {
   "cell_type": "code",
   "execution_count": 3,
   "id": "ce31f766ba57ee8d",
   "metadata": {
    "ExecuteTime": {
     "end_time": "2025-06-18T07:01:24.205330Z",
     "start_time": "2025-06-18T07:01:24.203145Z"
    }
   },
   "outputs": [
    {
     "data": {
      "text/plain": [
       "'Filter to keep samples with alphabet/numeric ratio within a specific range.'"
      ]
     },
     "execution_count": 3,
     "metadata": {},
     "output_type": "execute_result"
    }
   ],
   "source": [
    "# access op with name as key\n",
    "op_pool[\"alphanumeric_filter\"].desc"
   ]
  },
  {
   "cell_type": "code",
   "execution_count": 4,
   "id": "3de528a6c4da4ed0",
   "metadata": {
    "ExecuteTime": {
     "end_time": "2025-06-18T07:01:24.215161Z",
     "start_time": "2025-06-18T07:01:24.213549Z"
    }
   },
   "outputs": [
    {
     "name": "stdout",
     "output_type": "stream",
     "text": [
      "image_watermark_filter\n",
      "language_id_score_filter\n",
      "alphanumeric_filter\n"
     ]
    }
   ],
   "source": [
    "# iteration\n",
    "for op_name in op_pool.pool:\n",
    "    print(op_name)"
   ]
  },
  {
   "cell_type": "code",
   "execution_count": 5,
   "id": "7323e558a41081aa",
   "metadata": {
    "ExecuteTime": {
     "end_time": "2025-06-18T07:01:24.235485Z",
     "start_time": "2025-06-18T07:01:24.232404Z"
    }
   },
   "outputs": [
    {
     "data": {
      "text/plain": [
       "{'image_watermark_filter': {'name': 'image_watermark_filter',\n",
       "  'desc': 'Filter to keep samples whose images have no watermark with high probability.',\n",
       "  'enabled': True,\n",
       "  'args': {'hf_watermark_model': {'name': 'hf_watermark_model',\n",
       "    'desc': 'watermark detection model name on huggingface.',\n",
       "    'type': 'str',\n",
       "    'default': 'amrul-hzz/watermark_detector',\n",
       "    'v': 'amrul-hzz/watermark_detector',\n",
       "    'options': None,\n",
       "    'min': None,\n",
       "    'max': None},\n",
       "   'trust_remote_code': {'name': 'trust_remote_code',\n",
       "    'desc': 'Whether to trust the remote code for loading huggingface model.',\n",
       "    'type': 'bool',\n",
       "    'default': False,\n",
       "    'v': False,\n",
       "    'options': [True, False],\n",
       "    'min': None,\n",
       "    'max': None},\n",
       "   'prob_threshold': {'name': 'prob_threshold',\n",
       "    'desc': 'the predicted watermark probability threshold for samples. range from 0 to 1. Samples with watermark probability less than this threshold will be kept.',\n",
       "    'type': 'float',\n",
       "    'default': 0.8,\n",
       "    'v': 0.8,\n",
       "    'options': None,\n",
       "    'min': 0.0,\n",
       "    'max': 1.0},\n",
       "   'any_or_all': {'name': 'any_or_all',\n",
       "    'desc': \"keep this sample with 'any' or 'all' strategy of all images. 'any': keep this sample if any images meet the condition. 'all': keep this sample only if all images meet the condition.\",\n",
       "    'type': 'str',\n",
       "    'default': 'any',\n",
       "    'v': 'any',\n",
       "    'options': ['any', 'all'],\n",
       "    'min': None,\n",
       "    'max': None}},\n",
       "  'stats': {}},\n",
       " 'language_id_score_filter': {'name': 'language_id_score_filter',\n",
       "  'desc': 'Filter to keep samples in a specific language with confidence score larger than a specific min value.',\n",
       "  'enabled': True,\n",
       "  'args': {'lang': {'name': 'lang',\n",
       "    'desc': 'Samples in which languages to keep.',\n",
       "    'type': 'Union[str, List[str]]',\n",
       "    'default': '',\n",
       "    'v': '',\n",
       "    'options': None,\n",
       "    'min': None,\n",
       "    'max': None},\n",
       "   'min_score': {'name': 'min_score',\n",
       "    'desc': 'The min language identification confidence scores of samples to keep.',\n",
       "    'type': 'float',\n",
       "    'default': 0.8,\n",
       "    'v': 0.8,\n",
       "    'options': None,\n",
       "    'min': -1000000.0,\n",
       "    'max': 1000000.0}},\n",
       "  'stats': {}},\n",
       " 'alphanumeric_filter': {'name': 'alphanumeric_filter',\n",
       "  'desc': 'Filter to keep samples with alphabet/numeric ratio within a specific range.',\n",
       "  'enabled': True,\n",
       "  'args': {'tokenization': {'name': 'tokenization',\n",
       "    'desc': 'Whether to count the ratio of alphanumeric to the total number of tokens. if tokenization=False, it will count the ratio of alphanumeric to the total number of characters.',\n",
       "    'type': 'bool',\n",
       "    'default': False,\n",
       "    'v': False,\n",
       "    'options': [True, False],\n",
       "    'min': None,\n",
       "    'max': None},\n",
       "   'min_ratio': {'name': 'min_ratio',\n",
       "    'desc': 'The min filter ratio in alphanumeric op, samples will be filtered if their alphabet/numeric ratio is below this parameter.',\n",
       "    'type': 'float',\n",
       "    'default': 0.25,\n",
       "    'v': 0.25,\n",
       "    'options': None,\n",
       "    'min': -1000000.0,\n",
       "    'max': 1000000.0},\n",
       "   'max_ratio': {'name': 'max_ratio',\n",
       "    'desc': 'The max filter ratio in alphanumeric op, samples will be filtered if their alphabet/numeric ratio exceeds this parameter.',\n",
       "    'type': 'float',\n",
       "    'default': 1000000.0,\n",
       "    'v': 1000000.0,\n",
       "    'options': None,\n",
       "    'min': -1000000.0,\n",
       "    'max': 1000000.0}},\n",
       "  'stats': {}}}"
      ]
     },
     "execution_count": 5,
     "metadata": {},
     "output_type": "execute_result"
    }
   ],
   "source": [
    "# state, used for llm query, save, and load\n",
    "op_pool.state"
   ]
  },
  {
   "cell_type": "code",
   "execution_count": 6,
   "id": "db887b19c08a9b64",
   "metadata": {
    "ExecuteTime": {
     "end_time": "2025-06-18T07:01:24.254749Z",
     "start_time": "2025-06-18T07:01:24.251754Z"
    }
   },
   "outputs": [
    {
     "data": {
      "text/plain": [
       "'./configs/demo-recipe.yaml'"
      ]
     },
     "execution_count": 6,
     "metadata": {},
     "output_type": "execute_result"
    }
   ],
   "source": [
    "# export recipe\n",
    "op_pool.export_config(\n",
    "    project_name=\"demo\",\n",
    "    dataset_path=\"./data/demo-dataset.jsonl\",\n",
    "    nproc=4,\n",
    "    export_path=\"./outputs/processed_data.jsonl\",\n",
    "    config_path=\"./configs/demo-recipe.yaml\"\n",
    ")"
   ]
  },
  {
   "cell_type": "code",
   "execution_count": 7,
   "id": "2bfb55741b8931c",
   "metadata": {
    "ExecuteTime": {
     "end_time": "2025-06-18T07:01:24.279674Z",
     "start_time": "2025-06-18T07:01:24.271399Z"
    }
   },
   "outputs": [
    {
     "name": "stdout",
     "output_type": "stream",
     "text": [
      "True\n",
      "False\n",
      "True\n"
     ]
    }
   ],
   "source": [
    "# enable/disable an operator\n",
    "print(op_pool[\"alphanumeric_filter\"].enabled)\n",
    "op_pool.act(op_name=\"alphanumeric_filter\", action_type=\"disable\")\n",
    "print(op_pool[\"alphanumeric_filter\"].enabled)\n",
    "op_pool.act(op_name=\"alphanumeric_filter\", action_type=\"enable\")\n",
    "print(op_pool[\"alphanumeric_filter\"].enabled)"
   ]
  },
  {
   "cell_type": "code",
   "execution_count": 8,
   "id": "3e596f0d411ae14a",
   "metadata": {
    "ExecuteTime": {
     "end_time": "2025-06-18T07:01:24.295554Z",
     "start_time": "2025-06-18T07:01:24.290428Z"
    }
   },
   "outputs": [
    {
     "data": {
      "text/plain": [
       "0.2"
      ]
     },
     "execution_count": 8,
     "metadata": {},
     "output_type": "execute_result"
    }
   ],
   "source": [
    "# set arg value\n",
    "op_pool.act(op_name=\"alphanumeric_filter\", action_type=\"set_arg\",\n",
    "            arg_name=\"min_ratio\", v=0.2)\n",
    "op_pool[\"alphanumeric_filter\"].args[\"min_ratio\"].v"
   ]
  },
  {
   "cell_type": "code",
   "execution_count": 9,
   "id": "e80247993f7556f4",
   "metadata": {
    "ExecuteTime": {
     "end_time": "2025-06-18T07:01:24.313267Z",
     "start_time": "2025-06-18T07:01:24.307168Z"
    }
   },
   "outputs": [
    {
     "data": {
      "text/plain": [
       "0.3"
      ]
     },
     "execution_count": 9,
     "metadata": {},
     "output_type": "execute_result"
    }
   ],
   "source": [
    "stats = dict(mean=0.3, std=0.04, min=0.12, max=0.89, quantiles=[0.01 * i for i in range(101)])\n",
    "op_pool[\"alphanumeric_filter\"].update_with_stats(stats)\n",
    "# set arg value as the p% quantile\n",
    "op_pool.act(op_name=\"alphanumeric_filter\", action_type=\"set_arg\",\n",
    "            arg_name=\"min_ratio\", p=30) # p=0.3 is also acceptable\n",
    "op_pool[\"alphanumeric_filter\"].args[\"min_ratio\"].v"
   ]
  },
  {
   "cell_type": "code",
   "execution_count": 10,
   "id": "c1b3d080157322be",
   "metadata": {
    "ExecuteTime": {
     "end_time": "2025-06-18T07:01:24.328854Z",
     "start_time": "2025-06-18T07:01:24.319588Z"
    }
   },
   "outputs": [
    {
     "data": {
      "text/plain": [
       "(0.18, 0.42)"
      ]
     },
     "execution_count": 10,
     "metadata": {},
     "output_type": "execute_result"
    }
   ],
   "source": [
    "# set filter args as mean \\pm k * std\n",
    "op_pool.act(op_name=\"alphanumeric_filter\", action_type=\"set_arg\",\n",
    "            k=3)\n",
    "op_pool[\"alphanumeric_filter\"].args[\"min_ratio\"].v, op_pool[\"alphanumeric_filter\"].args[\"max_ratio\"].v"
   ]
  }
 ],
 "metadata": {
  "kernelspec": {
   "display_name": "data-juicer",
   "language": "python",
   "name": "python3"
  },
  "language_info": {
   "codemirror_mode": {
    "name": "ipython",
    "version": 3
   },
   "file_extension": ".py",
   "mimetype": "text/x-python",
   "name": "python",
   "nbconvert_exporter": "python",
   "pygments_lexer": "ipython3",
   "version": "3.10.12"
  }
 },
 "nbformat": 4,
 "nbformat_minor": 5
}
